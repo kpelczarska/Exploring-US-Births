{
 "cells": [
  {
   "cell_type": "code",
   "execution_count": 1,
   "metadata": {},
   "outputs": [
    {
     "name": "stdout",
     "output_type": "stream",
     "text": [
      "first ten string rows with header:\n",
      "['year,month,date_of_month,day_of_week,births', '1994,1,1,6,8096', '1994,1,2,7,7772', '1994,1,3,1,10142', '1994,1,4,2,11248', '1994,1,5,3,11053', '1994,1,6,4,11406', '1994,1,7,5,11251', '1994,1,8,6,8653', '1994,1,9,7,7910']\n"
     ]
    }
   ],
   "source": [
    "f = open(\"US_births_1994-2003_CDC_NCHS.csv\", \"r\") #open the file\n",
    "data_str = f.read() #read the csv file into a string\n",
    "data_lst = data_str.split(\"\\n\") #split the data on the new-line character\n",
    "print(\"first ten string rows with header:\")\n",
    "print(data_lst[:10]) #display the first ten rows"
   ]
  },
  {
   "cell_type": "markdown",
   "metadata": {},
   "source": [
    "# Converting Data into a List of Lists"
   ]
  },
  {
   "cell_type": "code",
   "execution_count": 2,
   "metadata": {},
   "outputs": [
    {
     "name": "stdout",
     "output_type": "stream",
     "text": [
      "first ten rows of the dataset as a list of lists with integer values, without header:\n",
      "[[1994, 1, 1, 6, 8096], [1994, 1, 2, 7, 7772], [1994, 1, 3, 1, 10142], [1994, 1, 4, 2, 11248], [1994, 1, 5, 3, 11053], [1994, 1, 6, 4, 11406], [1994, 1, 7, 5, 11251], [1994, 1, 8, 6, 8653], [1994, 1, 9, 7, 7910], [1994, 1, 10, 1, 10498]]\n"
     ]
    }
   ],
   "source": [
    "#read the csv file and convert the dataset into a list of lists\n",
    "def read_csv(file_name, header_row=True):\n",
    "    f = open(file_name, \"r\")\n",
    "    data_str = f.read()\n",
    "    data_lst = data_str.split(\"\\n\")\n",
    "    if header_row == True:\n",
    "        data_lst = data_lst[1:] #remove header row\n",
    "    \n",
    "    final_lst = []\n",
    "    for row in data_lst:\n",
    "        int_fields = []\n",
    "        str_fields = row.split(\",\")\n",
    "        for field in str_fields:\n",
    "            int_fields.append(int(field)) #convert value to integer\n",
    "        final_lst.append(int_fields)\n",
    "    \n",
    "    return final_lst    \n",
    "\n",
    "cdc_lst = read_csv(\"US_births_1994-2003_CDC_NCHS.csv\")\n",
    "print(\"first ten rows of the dataset as a list of lists with integer values, without header:\")\n",
    "print(cdc_lst[:10])"
   ]
  },
  {
   "cell_type": "markdown",
   "metadata": {},
   "source": [
    "# Calculating Number of Births Each Month"
   ]
  },
  {
   "cell_type": "code",
   "execution_count": 3,
   "metadata": {},
   "outputs": [
    {
     "name": "stdout",
     "output_type": "stream",
     "text": [
      "births per month:\n",
      "{1: 3232517, 2: 3018140, 3: 3322069, 4: 3185314, 5: 3350907, 6: 3296530, 7: 3498783, 8: 3525858, 9: 3439698, 10: 3378814, 11: 3171647, 12: 3301860}\n"
     ]
    }
   ],
   "source": [
    "#count the total number of births that occured in each month, across all years in the dataset (list of lists)\n",
    "def count_births_per_month(data):\n",
    "    births_per_month = {}    \n",
    "    for row in data:\n",
    "        month = row[1]\n",
    "        births = row[4]\n",
    "        if month in births_per_month:\n",
    "            births_per_month[month] += births\n",
    "        else:\n",
    "            births_per_month[month] = births\n",
    "            \n",
    "    return births_per_month\n",
    "\n",
    "cdc_month_births = count_births_per_month(cdc_lst)\n",
    "print(\"births per month:\")\n",
    "print(cdc_month_births)"
   ]
  },
  {
   "cell_type": "markdown",
   "metadata": {},
   "source": [
    "# Calculating Number of Births Each Day of Week"
   ]
  },
  {
   "cell_type": "code",
   "execution_count": 4,
   "metadata": {
    "scrolled": true
   },
   "outputs": [
    {
     "name": "stdout",
     "output_type": "stream",
     "text": [
      "births per day of week:\n",
      "{6: 4562111, 7: 4079723, 1: 5789166, 2: 6446196, 3: 6322855, 4: 6288429, 5: 6233657}\n"
     ]
    }
   ],
   "source": [
    "#count the total number of births that occured in each day of week, accross all years in the dataset (list of lists)\n",
    "def count_births_per_day_of_week(data):\n",
    "    births_per_dow = {}\n",
    "    for row in data:\n",
    "        dow = row[3]\n",
    "        births = row[4]\n",
    "        if dow in births_per_dow:\n",
    "            births_per_dow[dow] += births\n",
    "        else:\n",
    "            births_per_dow[dow] = births\n",
    "    return births_per_dow\n",
    "\n",
    "cdc_dow_births = count_births_per_day_of_week(cdc_lst)\n",
    "print(\"births per day of week:\")\n",
    "print(cdc_dow_births)"
   ]
  },
  {
   "cell_type": "markdown",
   "metadata": {},
   "source": [
    "# Creating a More General Function"
   ]
  },
  {
   "cell_type": "code",
   "execution_count": 5,
   "metadata": {
    "scrolled": true
   },
   "outputs": [
    {
     "name": "stdout",
     "output_type": "stream",
     "text": [
      "births per year:\n",
      "{1994: 3952767, 1995: 3899589, 1996: 3891494, 1997: 3880894, 1998: 3941553, 1999: 3959417, 2000: 4058814, 2001: 4025933, 2002: 4021726, 2003: 4089950}\n",
      "\n",
      "\n",
      "births per month:\n",
      "{1: 3232517, 2: 3018140, 3: 3322069, 4: 3185314, 5: 3350907, 6: 3296530, 7: 3498783, 8: 3525858, 9: 3439698, 10: 3378814, 11: 3171647, 12: 3301860}\n",
      "\n",
      "\n",
      "births per day of month:\n",
      "{1: 1276557, 2: 1288739, 3: 1304499, 4: 1288154, 5: 1299953, 6: 1304474, 7: 1310459, 8: 1312297, 9: 1303292, 10: 1320764, 11: 1314361, 12: 1318437, 13: 1277684, 14: 1320153, 15: 1319171, 16: 1315192, 17: 1324953, 18: 1326855, 19: 1318727, 20: 1324821, 21: 1322897, 22: 1317381, 23: 1293290, 24: 1288083, 25: 1272116, 26: 1284796, 27: 1294395, 28: 1307685, 29: 1223161, 30: 1202095, 31: 746696}\n",
      "\n",
      "\n",
      "births per day of week:\n",
      "{6: 4562111, 7: 4079723, 1: 5789166, 2: 6446196, 3: 6322855, 4: 6288429, 5: 6233657}\n"
     ]
    }
   ],
   "source": [
    "#count the total number of births for each unique value in a given column of the dataset (list of lists)\n",
    "def count_births_per_column_value(data, col_int):\n",
    "    births_per_col_value = {}\n",
    "    for row in data:\n",
    "        col_value = row[col_int]\n",
    "        births = row[4]\n",
    "        if col_value in births_per_col_value:\n",
    "            births_per_col_value[col_value] += births\n",
    "        else:\n",
    "            births_per_col_value[col_value] = births\n",
    "    return births_per_col_value\n",
    "\n",
    "cdc_year_births = count_births_per_column_value(cdc_lst, 0)\n",
    "print(\"births per year:\")\n",
    "print(cdc_year_births)\n",
    "print(\"\\n\")\n",
    "\n",
    "cdc_month_births = count_births_per_column_value(cdc_lst, 1)\n",
    "print(\"births per month:\")\n",
    "print(cdc_month_births)\n",
    "print(\"\\n\")\n",
    "\n",
    "cdc_dom_births = count_births_per_column_value(cdc_lst, 2)\n",
    "print(\"births per day of month:\")\n",
    "print(cdc_dom_births)\n",
    "print(\"\\n\")\n",
    "\n",
    "cdc_dow_births = count_births_per_column_value(cdc_lst, 3)\n",
    "print(\"births per day of week:\")\n",
    "print(cdc_dow_births)"
   ]
  },
  {
   "cell_type": "markdown",
   "metadata": {},
   "source": [
    "# Calculating min and max values"
   ]
  },
  {
   "cell_type": "code",
   "execution_count": 6,
   "metadata": {
    "scrolled": true
   },
   "outputs": [
    {
     "name": "stdout",
     "output_type": "stream",
     "text": [
      "min and max values per day of week:\n",
      "{'min': 4079723, 'max': 6446196}\n",
      "\n",
      "\n",
      "min and max values per month:\n",
      "{'min': 3018140, 'max': 3525858}\n"
     ]
    }
   ],
   "source": [
    "#calculate the min and max values for any dictionary\n",
    "def calculate_min_max_values(dictionary):\n",
    "    result_dict = {\n",
    "        \"min\": None,\n",
    "        \"max\": None\n",
    "    }\n",
    "    \n",
    "    for key in dictionary:\n",
    "        value = dictionary[key]\n",
    "        if (result_dict[\"min\"] == None) or (value < result_dict[\"min\"]):\n",
    "            result_dict[\"min\"] = value\n",
    "        if (result_dict[\"max\"] == None) or (value > result_dict[\"max\"]):\n",
    "            result_dict[\"max\"] = value\n",
    "    \n",
    "    return result_dict\n",
    "\n",
    "min_max_dow = calculate_min_max_values(cdc_dow_births)\n",
    "print(\"min and max values per day of week:\")\n",
    "print(min_max_dow)\n",
    "print(\"\\n\")\n",
    "\n",
    "min_max_month = calculate_min_max_values(cdc_month_births)\n",
    "print(\"min and max values per month:\")\n",
    "print(min_max_month)       "
   ]
  },
  {
   "cell_type": "markdown",
   "metadata": {},
   "source": [
    "# Calculating Births Changes Across Years"
   ]
  },
  {
   "cell_type": "code",
   "execution_count": 7,
   "metadata": {},
   "outputs": [
    {
     "name": "stdout",
     "output_type": "stream",
     "text": [
      "change of values of births in consecutive years for January:\n",
      "{1995: -4692, 1996: -1730, 1997: 2928, 1998: 2129, 1999: -158, 2000: 10926, 2001: 5090, 2002: -4524, 2003: -871}\n",
      "\n",
      "\n",
      "change of values of births in consecutive years for Saturday:\n",
      "{1995: -15152, 1996: -3319, 1997: -5421, 1998: 2936, 1999: -3791, 2000: 19809, 2001: -15866, 2002: -8158, 2003: 1675}\n"
     ]
    }
   ],
   "source": [
    "#extracts values for the same period (e.g. January or Monday) across years \n",
    "#and calculates the differences between consecutive values to show if number of births is increasing or decreasing\n",
    "#for example, how did the number of births in January change each year between 1994 and 2003?\n",
    "def count_column_value_change_across_years(data, col_int, period_int):\n",
    "    value_changes = {}\n",
    "    births_across_years = {}\n",
    "    \n",
    "    for row in data:\n",
    "        births = row[4]\n",
    "        year = row[0]\n",
    "        period = row[col_int]\n",
    "        if period == period_int:\n",
    "            if year in births_across_years:\n",
    "                births_across_years[year] += births\n",
    "            else:\n",
    "                births_across_years[year] = births\n",
    "    \n",
    "    for year, births in births_across_years.items():        \n",
    "        if year+1 in births_across_years:\n",
    "            this_year_births = births_across_years[year]\n",
    "            next_year_births = births_across_years[year+1]\n",
    "            value_changes[year+1] = next_year_births - this_year_births\n",
    "    return value_changes\n",
    "\n",
    "january_across_years = count_column_value_change_across_years(cdc_lst, 1, 1)\n",
    "print(\"change of values of births in consecutive years for January:\")\n",
    "print(january_across_years)\n",
    "print(\"\\n\")\n",
    "saturday_across_years = count_column_value_change_across_years(cdc_lst, 3, 6)\n",
    "print(\"change of values of births in consecutive years for Saturday:\")\n",
    "print(saturday_across_years)"
   ]
  },
  {
   "cell_type": "markdown",
   "metadata": {},
   "source": [
    "# Combining datasets"
   ]
  },
  {
   "cell_type": "code",
   "execution_count": 8,
   "metadata": {},
   "outputs": [
    {
     "name": "stdout",
     "output_type": "stream",
     "text": [
      "rows count in first dataset only:\n",
      "3652\n",
      "rows count in combined dataset:\n",
      "7670\n"
     ]
    }
   ],
   "source": [
    "#combine data from two datsets, removing overlapping years\n",
    "ssa_lst = read_csv(\"US_births_2000-2014_SSA.csv\") #second dataset\n",
    "print(\"rows count in first dataset only:\")\n",
    "print(len(cdc_lst))\n",
    "\n",
    "combined_lst = cdc_lst\n",
    "for row in ssa_lst:\n",
    "    year = row[0]\n",
    "    if year > 2003:\n",
    "        combined_lst.append(row)#append only rows with years greater thean 2003, to avoid overlapping\n",
    "print(\"rows count in combined dataset:\")\n",
    "print(len(combined_lst))"
   ]
  },
  {
   "cell_type": "code",
   "execution_count": null,
   "metadata": {},
   "outputs": [],
   "source": []
  },
  {
   "cell_type": "code",
   "execution_count": null,
   "metadata": {
    "collapsed": true
   },
   "outputs": [],
   "source": []
  }
 ],
 "metadata": {
  "kernelspec": {
   "display_name": "Python 3",
   "language": "python",
   "name": "python3"
  },
  "language_info": {
   "codemirror_mode": {
    "name": "ipython",
    "version": 3
   },
   "file_extension": ".py",
   "mimetype": "text/x-python",
   "name": "python",
   "nbconvert_exporter": "python",
   "pygments_lexer": "ipython3",
   "version": "3.6.3"
  }
 },
 "nbformat": 4,
 "nbformat_minor": 2
}
